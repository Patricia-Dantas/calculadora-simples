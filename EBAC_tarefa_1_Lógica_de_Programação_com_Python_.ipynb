{
  "nbformat": 4,
  "nbformat_minor": 0,
  "metadata": {
    "colab": {
      "provenance": []
    },
    "kernelspec": {
      "name": "python3",
      "display_name": "Python 3"
    },
    "language_info": {
      "name": "python"
    }
  },
  "cells": [
    {
      "cell_type": "markdown",
      "source": [
        "### **Exercício Proposto**\n",
        "  * calculadora simples. Apenas 2 numeros e 1 operação básica."
      ],
      "metadata": {
        "id": "770JWrBt8Tcf"
      }
    },
    {
      "cell_type": "code",
      "execution_count": 2,
      "metadata": {
        "colab": {
          "base_uri": "https://localhost:8080/"
        },
        "id": "PDfTFraj7SGw",
        "outputId": "6f62621c-1da9-4c4b-b7d1-62b487ffccdb"
      },
      "outputs": [
        {
          "output_type": "stream",
          "name": "stdout",
          "text": [
            "Adicione um numero (1°): 8\n",
            "\u001b[30m\u001b[46m\n",
            "As operações são:  +  |  -  |  *  |  /  \n",
            "\u001b[0m\n",
            "Escolha uma operação +\n",
            "\n",
            "Adicione um numero (2°): 18\n",
            "\u001b[30m\u001b[46m\n",
            "o resultado da SOMA é 26.0\n"
          ]
        }
      ],
      "source": [
        "#!pip install colorama\n",
        "#from colorama import Fore, Back, Style\n",
        "\n",
        "while True:\n",
        "\n",
        "  try:                                                                           #inserir numero 1\n",
        "    numero1 = float(input(\"Adicione um numero (1°): \"))                              # se usuario inserir float = ok, int = conversão, str = pedir input novamente.\n",
        "  except:\n",
        "    print(\"Inserir apenas algarismos\")\n",
        "    continue\n",
        "\n",
        "  operações = [\"+\", \"-\", \"*\", \"/\"]\n",
        "  print(Fore.BLACK + Back.CYAN + \"\\nAs operações são:  +  |  -  |  *  |  /  \")\n",
        "  print(Style.RESET_ALL)\n",
        "\n",
        "  operador = input(\"Escolha uma operação \")                                      #inserir operação basica\n",
        "  if operador not in operações:\n",
        "    print(\"Escolha uma operação! \")\n",
        "    operador = input(\"Escolha uma operação \")\n",
        "\n",
        "  try:                                                                          #inserir numero 2\n",
        "    numero2 = float(input(\"\\nAdicione um numero (2°): \"))                                 # se usuario inserir float = ok, int = conversão, str = pedir input novamente.\n",
        "  except:\n",
        "    print(\"Inserir apenas algarismos\")\n",
        "    numero2 = float(input(\"Adicione um numero (2°): \"))\n",
        "\n",
        "#operações\n",
        "  if operador == \"+\":                                                             # soma\n",
        "    resultado = float(numero1 + numero2)\n",
        "    print(Fore.BLACK + Back.CYAN + \"\\no resultado da SOMA é\", resultado)\n",
        "\n",
        "  if operador == \"-\":                                                             # subtração\n",
        "    resultado = float(numero1 - numero2)\n",
        "    print(Fore.BLACK + Back.CYAN + \"\\no resultado da SUBTRAÇÃO é\", resultado)\n",
        "\n",
        "  if operador == \"*\":                                                             # multiplicação\n",
        "    resultado = float(numero1 * numero2)\n",
        "    print(Fore.BLACK + Back.CYAN + \"\\no resultado da MULTIPLICAÇÃO é\", resultado)\n",
        "\n",
        "  if operador == \"/\":                                                             # divisão\n",
        "    resultado = float(numero1 / numero2)\n",
        "    print(Fore.BLACK + Back.CYAN + \"\\no resultado da DIVISÃO é\", resultado)\n",
        "\n",
        "  break"
      ]
    },
    {
      "cell_type": "markdown",
      "source": [
        "### Exercício extra\n",
        "  * Calculadora de ingestão diária de água"
      ],
      "metadata": {
        "id": "kcy3Tb3rPy7S"
      }
    },
    {
      "cell_type": "code",
      "source": [
        "nome = input(\"Insira seu nome: \")\n",
        "print(\"Olá,\", nome + \", esta calculadora irá fornecer a sua ingestão mínima diária de água, usando peso e idade como referências\")\n",
        "idade = float(input(nome + \", insira sua idade: \"))\n",
        "\n",
        "while(True):\n",
        "  if 17 >= idade >= 0:\n",
        "    taxa = 0.04\n",
        "  if 55 >= idade >= 18:\n",
        "    taxa = 0.035\n",
        "  if 65 >= idade >= 56:\n",
        "    taxa = 0.03\n",
        "  if 100 >= idade >= 66:\n",
        "    taxa = 0.025\n",
        "  elif idade > 100:\n",
        "    print(\"A idade máxima permitida é 100\")\n",
        "    idade = float(input(nome + \", insira sua idade: \"))\n",
        "  break\n",
        "\n",
        "peso = float(input(\"ok, \" + nome + \", insira seu peso \"))\n",
        "\n",
        "ingestaoRecomendada = peso*taxa\n",
        "ingestãoRecomendadaCopos = ingestaoRecomendada/0.25\n",
        "\n",
        "print(\"\\nCom idade de:\",idade, \"anos,\", \"o total é: taxa(\", taxa, \") X peso(\", peso, \"kilos)\")\n",
        "print(\"\\nPronto\", nome + \", a sua ingestão diária mínima deve ser de\", ingestaoRecomendada, \"litros por dia, ou aproximadamente\", ingestãoRecomendadaCopos, \"copos por dia\")"
      ],
      "metadata": {
        "colab": {
          "base_uri": "https://localhost:8080/"
        },
        "id": "ofDqOd59PzlG",
        "outputId": "b9db7c82-a68c-4456-cfaa-8b9883c18856"
      },
      "execution_count": 3,
      "outputs": [
        {
          "output_type": "stream",
          "name": "stdout",
          "text": [
            "Insira seu nome: Maria\n",
            "Olá, Maria, esta calculadora irá fornecer a sua ingestão mínima diária de água, usando peso e idade como referências\n",
            "Maria, insira sua idade: 40\n",
            "ok, Maria, insira seu peso 60\n",
            "\n",
            "Com idade de: 40.0 anos, o total é: taxa( 0.035 ) X peso( 60.0 kilos)\n",
            "\n",
            "Pronto Maria, a sua ingestão diária mínima deve ser de 2.1 litros por dia, ou aproximadamente 8.4 copos por dia\n"
          ]
        }
      ]
    },
    {
      "cell_type": "code",
      "source": [],
      "metadata": {
        "id": "JypxWafPQUeb"
      },
      "execution_count": null,
      "outputs": []
    }
  ]
}